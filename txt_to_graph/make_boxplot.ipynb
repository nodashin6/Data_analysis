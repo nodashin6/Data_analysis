{
 "cells": [
  {
   "cell_type": "code",
   "execution_count": 1,
   "metadata": {},
   "outputs": [],
   "source": [
    "import numpy as np\n",
    "import pandas as pd\n",
    "import matplotlib.pyplot as plt\n",
    "import seaborn as sns\n",
    "import glob"
   ]
  },
  {
   "cell_type": "code",
   "execution_count": 2,
   "metadata": {},
   "outputs": [
    {
     "name": "stdout",
     "output_type": "stream",
     "text": [
      "Filesに含まれているtxtファイスは下記．\n",
      "./txt_files/data_01.txt\n",
      "./txt_files/data_02.txt\n",
      "./txt_files/data_03.txt\n",
      "./txt_files/data_04.txt\n",
      "./txt_files/data_05.txt\n",
      "./txt_files/data_06.txt\n",
      "./txt_files/data_07.txt\n",
      "./txt_files/data_08.txt\n",
      "./txt_files/data_09.txt\n",
      "./txt_files/data_10.txt\n"
     ]
    }
   ],
   "source": [
    "Files = glob.glob('./txt_files/*')\n",
    "Files = sorted(Files)\n",
    "print('Filesに含まれているtxtファイスは下記．\\n' + '\\n'.join(Files))"
   ]
  },
  {
   "cell_type": "markdown",
   "metadata": {},
   "source": [
    "#### data_01には，サンプル名「ABC-50」についての測定結果が記されている．"
   ]
  },
  {
   "cell_type": "code",
   "execution_count": 3,
   "metadata": {},
   "outputs": [],
   "source": [
    "# 例えば./txt_files/data_01.txtにはこのような内容が含まれている．\n",
    "'''\n",
    "FILE NAME,data_01.txt\n",
    "DATE,YYYYMMDD\n",
    "SAMPLE NAME,ABC-50\n",
    "TEST_DATA\n",
    "N,Length(cm),Time(s),Weight(g)\n",
    "1.0,41.1,27.0,5.201\n",
    "2.0,43.7,26.9,5.151\n",
    "3.0,50.4,27.6,5.677\n",
    "4.0,24.8,27.0,4.907\n",
    "5.0,31.3,25.9,5.142\n",
    "''';"
   ]
  },
  {
   "cell_type": "code",
   "execution_count": 4,
   "metadata": {},
   "outputs": [
    {
     "name": "stdout",
     "output_type": "stream",
     "text": [
      "ABC-50 の測定結果:\n"
     ]
    },
    {
     "data": {
      "text/html": [
       "<div>\n",
       "<style scoped>\n",
       "    .dataframe tbody tr th:only-of-type {\n",
       "        vertical-align: middle;\n",
       "    }\n",
       "\n",
       "    .dataframe tbody tr th {\n",
       "        vertical-align: top;\n",
       "    }\n",
       "\n",
       "    .dataframe thead th {\n",
       "        text-align: right;\n",
       "    }\n",
       "</style>\n",
       "<table border=\"1\" class=\"dataframe\">\n",
       "  <thead>\n",
       "    <tr style=\"text-align: right;\">\n",
       "      <th></th>\n",
       "      <th>N</th>\n",
       "      <th>Length(cm)</th>\n",
       "      <th>Time(s)</th>\n",
       "      <th>Weight(g)</th>\n",
       "    </tr>\n",
       "  </thead>\n",
       "  <tbody>\n",
       "    <tr>\n",
       "      <th>0</th>\n",
       "      <td>1.0</td>\n",
       "      <td>41.1</td>\n",
       "      <td>27.0</td>\n",
       "      <td>5.201</td>\n",
       "    </tr>\n",
       "    <tr>\n",
       "      <th>1</th>\n",
       "      <td>2.0</td>\n",
       "      <td>43.7</td>\n",
       "      <td>26.9</td>\n",
       "      <td>5.151</td>\n",
       "    </tr>\n",
       "    <tr>\n",
       "      <th>2</th>\n",
       "      <td>3.0</td>\n",
       "      <td>50.4</td>\n",
       "      <td>27.6</td>\n",
       "      <td>5.677</td>\n",
       "    </tr>\n",
       "    <tr>\n",
       "      <th>3</th>\n",
       "      <td>4.0</td>\n",
       "      <td>24.8</td>\n",
       "      <td>27.0</td>\n",
       "      <td>4.907</td>\n",
       "    </tr>\n",
       "    <tr>\n",
       "      <th>4</th>\n",
       "      <td>5.0</td>\n",
       "      <td>31.3</td>\n",
       "      <td>25.9</td>\n",
       "      <td>5.142</td>\n",
       "    </tr>\n",
       "  </tbody>\n",
       "</table>\n",
       "</div>"
      ],
      "text/plain": [
       "     N  Length(cm)  Time(s)  Weight(g)\n",
       "0  1.0        41.1     27.0      5.201\n",
       "1  2.0        43.7     26.9      5.151\n",
       "2  3.0        50.4     27.6      5.677\n",
       "3  4.0        24.8     27.0      4.907\n",
       "4  5.0        31.3     25.9      5.142"
      ]
     },
     "execution_count": 4,
     "metadata": {},
     "output_type": "execute_result"
    }
   ],
   "source": [
    "# dataframeにして書き出してみる\n",
    "df_abc50 = pd.read_csv(Files[0], header=4)\n",
    "print('ABC-50 の測定結果:')\n",
    "df_abc50"
   ]
  },
  {
   "cell_type": "markdown",
   "metadata": {},
   "source": [
    "#### 上の表ではサンプル名「ABC-50」について5回測定した際の，Length, Time, Weightの結果が記されている．<br>このうちTime (s)についてデータをまとめたいとする．<br>その他のtxtデータも同様の形式に従って，測定データが記述されている．"
   ]
  },
  {
   "cell_type": "code",
   "execution_count": 5,
   "metadata": {},
   "outputs": [
    {
     "data": {
      "image/png": "[encoded data removed]",
      "text/plain": [
       "<Figure size 432x288 with 1 Axes>"
      ]
     },
     "metadata": {
      "needs_background": "light"
     },
     "output_type": "display_data"
    }
   ],
   "source": [
    "# boxplotにすると\n",
    "df_abc50.boxplot(column=['Time(s)']);"
   ]
  },
  {
   "cell_type": "markdown",
   "metadata": {},
   "source": [
    "#### 一つひとつのファイルを読み込んで，グラフにするのは，大変かつデータを俯瞰できないので，<br>今から，全てのテキストファイルを読み込んで，Timeに関するデータを集計する．"
   ]
  },
  {
   "cell_type": "code",
   "execution_count": 6,
   "metadata": {},
   "outputs": [
    {
     "name": "stdout",
     "output_type": "stream",
     "text": [
      "====================================================================== \n",
      " DataFrame\n"
     ]
    },
    {
     "data": {
      "text/html": [
       "<div>\n",
       "<style scoped>\n",
       "    .dataframe tbody tr th:only-of-type {\n",
       "        vertical-align: middle;\n",
       "    }\n",
       "\n",
       "    .dataframe tbody tr th {\n",
       "        vertical-align: top;\n",
       "    }\n",
       "\n",
       "    .dataframe thead th {\n",
       "        text-align: right;\n",
       "    }\n",
       "</style>\n",
       "<table border=\"1\" class=\"dataframe\">\n",
       "  <thead>\n",
       "    <tr style=\"text-align: right;\">\n",
       "      <th></th>\n",
       "      <th>ABC-50</th>\n",
       "      <th>ABC-51</th>\n",
       "      <th>ABC-52</th>\n",
       "      <th>ABC-53</th>\n",
       "      <th>ABC-54</th>\n",
       "      <th>ABC-55</th>\n",
       "      <th>ABC-56</th>\n",
       "      <th>ABC-57</th>\n",
       "      <th>ABC-58</th>\n",
       "      <th>ABC-59</th>\n",
       "    </tr>\n",
       "  </thead>\n",
       "  <tbody>\n",
       "    <tr>\n",
       "      <th>0</th>\n",
       "      <td>27.0</td>\n",
       "      <td>22.9</td>\n",
       "      <td>34.5</td>\n",
       "      <td>31.5</td>\n",
       "      <td>42.1</td>\n",
       "      <td>34.9</td>\n",
       "      <td>28.8</td>\n",
       "      <td>32.1</td>\n",
       "      <td>33.4</td>\n",
       "      <td>25.7</td>\n",
       "    </tr>\n",
       "    <tr>\n",
       "      <th>1</th>\n",
       "      <td>26.9</td>\n",
       "      <td>24.2</td>\n",
       "      <td>38.2</td>\n",
       "      <td>27.1</td>\n",
       "      <td>22.1</td>\n",
       "      <td>34.4</td>\n",
       "      <td>26.9</td>\n",
       "      <td>31.8</td>\n",
       "      <td>28.4</td>\n",
       "      <td>33.0</td>\n",
       "    </tr>\n",
       "    <tr>\n",
       "      <th>2</th>\n",
       "      <td>27.6</td>\n",
       "      <td>29.0</td>\n",
       "      <td>22.3</td>\n",
       "      <td>30.2</td>\n",
       "      <td>37.2</td>\n",
       "      <td>35.8</td>\n",
       "      <td>28.0</td>\n",
       "      <td>31.8</td>\n",
       "      <td>29.5</td>\n",
       "      <td>35.1</td>\n",
       "    </tr>\n",
       "    <tr>\n",
       "      <th>3</th>\n",
       "      <td>27.0</td>\n",
       "      <td>29.2</td>\n",
       "      <td>32.2</td>\n",
       "      <td>32.3</td>\n",
       "      <td>44.6</td>\n",
       "      <td>32.7</td>\n",
       "      <td>29.5</td>\n",
       "      <td>32.0</td>\n",
       "      <td>32.1</td>\n",
       "      <td>30.5</td>\n",
       "    </tr>\n",
       "    <tr>\n",
       "      <th>4</th>\n",
       "      <td>25.9</td>\n",
       "      <td>25.9</td>\n",
       "      <td>18.3</td>\n",
       "      <td>30.4</td>\n",
       "      <td>38.5</td>\n",
       "      <td>33.3</td>\n",
       "      <td>26.1</td>\n",
       "      <td>32.0</td>\n",
       "      <td>30.3</td>\n",
       "      <td>38.3</td>\n",
       "    </tr>\n",
       "    <tr>\n",
       "      <th>5</th>\n",
       "      <td>NaN</td>\n",
       "      <td>24.5</td>\n",
       "      <td>NaN</td>\n",
       "      <td>33.6</td>\n",
       "      <td>19.0</td>\n",
       "      <td>27.0</td>\n",
       "      <td>28.7</td>\n",
       "      <td>32.0</td>\n",
       "      <td>NaN</td>\n",
       "      <td>30.7</td>\n",
       "    </tr>\n",
       "    <tr>\n",
       "      <th>6</th>\n",
       "      <td>NaN</td>\n",
       "      <td>NaN</td>\n",
       "      <td>NaN</td>\n",
       "      <td>26.1</td>\n",
       "      <td>32.5</td>\n",
       "      <td>34.9</td>\n",
       "      <td>NaN</td>\n",
       "      <td>32.1</td>\n",
       "      <td>NaN</td>\n",
       "      <td>38.4</td>\n",
       "    </tr>\n",
       "    <tr>\n",
       "      <th>7</th>\n",
       "      <td>NaN</td>\n",
       "      <td>NaN</td>\n",
       "      <td>NaN</td>\n",
       "      <td>31.3</td>\n",
       "      <td>43.4</td>\n",
       "      <td>35.3</td>\n",
       "      <td>NaN</td>\n",
       "      <td>32.0</td>\n",
       "      <td>NaN</td>\n",
       "      <td>30.5</td>\n",
       "    </tr>\n",
       "  </tbody>\n",
       "</table>\n",
       "</div>"
      ],
      "text/plain": [
       "   ABC-50  ABC-51  ABC-52  ABC-53  ABC-54  ABC-55  ABC-56  ABC-57  ABC-58  \\\n",
       "0    27.0    22.9    34.5    31.5    42.1    34.9    28.8    32.1    33.4   \n",
       "1    26.9    24.2    38.2    27.1    22.1    34.4    26.9    31.8    28.4   \n",
       "2    27.6    29.0    22.3    30.2    37.2    35.8    28.0    31.8    29.5   \n",
       "3    27.0    29.2    32.2    32.3    44.6    32.7    29.5    32.0    32.1   \n",
       "4    25.9    25.9    18.3    30.4    38.5    33.3    26.1    32.0    30.3   \n",
       "5     NaN    24.5     NaN    33.6    19.0    27.0    28.7    32.0     NaN   \n",
       "6     NaN     NaN     NaN    26.1    32.5    34.9     NaN    32.1     NaN   \n",
       "7     NaN     NaN     NaN    31.3    43.4    35.3     NaN    32.0     NaN   \n",
       "\n",
       "   ABC-59  \n",
       "0    25.7  \n",
       "1    33.0  \n",
       "2    35.1  \n",
       "3    30.5  \n",
       "4    38.3  \n",
       "5    30.7  \n",
       "6    38.4  \n",
       "7    30.5  "
      ]
     },
     "metadata": {},
     "output_type": "display_data"
    },
    {
     "name": "stdout",
     "output_type": "stream",
     "text": [
      "\n",
      "\n",
      " ====================================================================== \n",
      " TABLE\n"
     ]
    },
    {
     "data": {
      "text/html": [
       "<div>\n",
       "<style scoped>\n",
       "    .dataframe tbody tr th:only-of-type {\n",
       "        vertical-align: middle;\n",
       "    }\n",
       "\n",
       "    .dataframe tbody tr th {\n",
       "        vertical-align: top;\n",
       "    }\n",
       "\n",
       "    .dataframe thead th {\n",
       "        text-align: right;\n",
       "    }\n",
       "</style>\n",
       "<table border=\"1\" class=\"dataframe\">\n",
       "  <thead>\n",
       "    <tr style=\"text-align: right;\">\n",
       "      <th></th>\n",
       "      <th>ABC-50</th>\n",
       "      <th>ABC-51</th>\n",
       "      <th>ABC-52</th>\n",
       "      <th>ABC-53</th>\n",
       "      <th>ABC-54</th>\n",
       "      <th>ABC-55</th>\n",
       "      <th>ABC-56</th>\n",
       "      <th>ABC-57</th>\n",
       "      <th>ABC-58</th>\n",
       "      <th>ABC-59</th>\n",
       "    </tr>\n",
       "  </thead>\n",
       "  <tbody>\n",
       "    <tr>\n",
       "      <th>0</th>\n",
       "      <td>27.0</td>\n",
       "      <td>22.9</td>\n",
       "      <td>34.5</td>\n",
       "      <td>31.5</td>\n",
       "      <td>42.1</td>\n",
       "      <td>34.9</td>\n",
       "      <td>28.8</td>\n",
       "      <td>32.1</td>\n",
       "      <td>33.4</td>\n",
       "      <td>25.7</td>\n",
       "    </tr>\n",
       "    <tr>\n",
       "      <th>1</th>\n",
       "      <td>26.9</td>\n",
       "      <td>24.2</td>\n",
       "      <td>38.2</td>\n",
       "      <td>27.1</td>\n",
       "      <td>22.1</td>\n",
       "      <td>34.4</td>\n",
       "      <td>26.9</td>\n",
       "      <td>31.8</td>\n",
       "      <td>28.4</td>\n",
       "      <td>33.0</td>\n",
       "    </tr>\n",
       "    <tr>\n",
       "      <th>2</th>\n",
       "      <td>27.6</td>\n",
       "      <td>29.0</td>\n",
       "      <td>22.3</td>\n",
       "      <td>30.2</td>\n",
       "      <td>37.2</td>\n",
       "      <td>35.8</td>\n",
       "      <td>28.0</td>\n",
       "      <td>31.8</td>\n",
       "      <td>29.5</td>\n",
       "      <td>35.1</td>\n",
       "    </tr>\n",
       "    <tr>\n",
       "      <th>3</th>\n",
       "      <td>27.0</td>\n",
       "      <td>29.2</td>\n",
       "      <td>32.2</td>\n",
       "      <td>32.3</td>\n",
       "      <td>44.6</td>\n",
       "      <td>32.7</td>\n",
       "      <td>29.5</td>\n",
       "      <td>32.0</td>\n",
       "      <td>32.1</td>\n",
       "      <td>30.5</td>\n",
       "    </tr>\n",
       "    <tr>\n",
       "      <th>4</th>\n",
       "      <td>25.9</td>\n",
       "      <td>25.9</td>\n",
       "      <td>18.3</td>\n",
       "      <td>30.4</td>\n",
       "      <td>38.5</td>\n",
       "      <td>33.3</td>\n",
       "      <td>26.1</td>\n",
       "      <td>32.0</td>\n",
       "      <td>30.3</td>\n",
       "      <td>38.3</td>\n",
       "    </tr>\n",
       "    <tr>\n",
       "      <th>5</th>\n",
       "      <td>nan</td>\n",
       "      <td>24.5</td>\n",
       "      <td>nan</td>\n",
       "      <td>33.6</td>\n",
       "      <td>19.0</td>\n",
       "      <td>27.0</td>\n",
       "      <td>28.7</td>\n",
       "      <td>32.0</td>\n",
       "      <td>nan</td>\n",
       "      <td>30.7</td>\n",
       "    </tr>\n",
       "    <tr>\n",
       "      <th>6</th>\n",
       "      <td>nan</td>\n",
       "      <td>nan</td>\n",
       "      <td>nan</td>\n",
       "      <td>26.1</td>\n",
       "      <td>32.5</td>\n",
       "      <td>34.9</td>\n",
       "      <td>nan</td>\n",
       "      <td>32.1</td>\n",
       "      <td>nan</td>\n",
       "      <td>38.4</td>\n",
       "    </tr>\n",
       "    <tr>\n",
       "      <th>7</th>\n",
       "      <td>nan</td>\n",
       "      <td>nan</td>\n",
       "      <td>nan</td>\n",
       "      <td>31.3</td>\n",
       "      <td>43.4</td>\n",
       "      <td>35.3</td>\n",
       "      <td>nan</td>\n",
       "      <td>32.0</td>\n",
       "      <td>nan</td>\n",
       "      <td>30.5</td>\n",
       "    </tr>\n",
       "    <tr>\n",
       "      <th>median</th>\n",
       "      <td>27.0</td>\n",
       "      <td>25.2</td>\n",
       "      <td>32.2</td>\n",
       "      <td>30.8</td>\n",
       "      <td>37.8</td>\n",
       "      <td>34.6</td>\n",
       "      <td>28.4</td>\n",
       "      <td>32.0</td>\n",
       "      <td>30.3</td>\n",
       "      <td>31.8</td>\n",
       "    </tr>\n",
       "  </tbody>\n",
       "</table>\n",
       "</div>"
      ],
      "text/plain": [
       "       ABC-50 ABC-51 ABC-52 ABC-53 ABC-54 ABC-55 ABC-56 ABC-57 ABC-58 ABC-59\n",
       "0        27.0   22.9   34.5   31.5   42.1   34.9   28.8   32.1   33.4   25.7\n",
       "1        26.9   24.2   38.2   27.1   22.1   34.4   26.9   31.8   28.4   33.0\n",
       "2        27.6   29.0   22.3   30.2   37.2   35.8   28.0   31.8   29.5   35.1\n",
       "3        27.0   29.2   32.2   32.3   44.6   32.7   29.5   32.0   32.1   30.5\n",
       "4        25.9   25.9   18.3   30.4   38.5   33.3   26.1   32.0   30.3   38.3\n",
       "5         nan   24.5    nan   33.6   19.0   27.0   28.7   32.0    nan   30.7\n",
       "6         nan    nan    nan   26.1   32.5   34.9    nan   32.1    nan   38.4\n",
       "7         nan    nan    nan   31.3   43.4   35.3    nan   32.0    nan   30.5\n",
       "median   27.0   25.2   32.2   30.8   37.8   34.6   28.4   32.0   30.3   31.8"
      ]
     },
     "metadata": {},
     "output_type": "display_data"
    }
   ],
   "source": [
    "%precision 3\n",
    "DF = []\n",
    "for file in Files:\n",
    "    with open(file) as f:\n",
    "        L = [f.readline().split(',') for _ in range(4)]\n",
    "        for l in L:\n",
    "            if l[0] == 'SAMPLE NAME':\n",
    "                sample = l[1].rstrip()\n",
    "        df_i = pd.read_csv(f)\n",
    "        s_i = df_i[['Time(s)']]\n",
    "        s_i.columns= [sample]\n",
    "        DF.append(s_i)\n",
    "df = pd.concat(DF, axis=1)\n",
    "tbl = df.copy()\n",
    "s = tbl.median().rename('median')\n",
    "tbl = pd.concat([tbl.T, s], axis=1).T.round(1).astype(str)\n",
    "\n",
    "line = '='*70\n",
    "print(line,'\\n','DataFrame')\n",
    "display(df)\n",
    "print('\\n\\n',line,'\\n','TABLE')\n",
    "display(tbl)"
   ]
  },
  {
   "cell_type": "code",
   "execution_count": 7,
   "metadata": {},
   "outputs": [
    {
     "data": {
      "image/png": "[encoded data removed]",
      "text/plain": [
       "<Figure size 936x576 with 1 Axes>"
      ]
     },
     "metadata": {
      "needs_background": "light"
     },
     "output_type": "display_data"
    }
   ],
   "source": [
    "# make simple boxplot by using pandas\n",
    "fig, ax = plt.subplots(figsize=(13, 8))\n",
    "df.boxplot(ax=ax)\n",
    "ax.set_ylim(0, 50)\n",
    "ax.set_title('Title', size=14)\n",
    "ax.set_xlabel('sample name', size=14)\n",
    "ax.set_ylabel('Time (s)', size=14)\n",
    "plt.show();"
   ]
  },
  {
   "cell_type": "code",
   "execution_count": 8,
   "metadata": {},
   "outputs": [
    {
     "data": {
      "image/png": "[encoded data removed]",
      "text/plain": [
       "<Figure size 936x576 with 1 Axes>"
      ]
     },
     "metadata": {
      "needs_background": "light"
     },
     "output_type": "display_data"
    }
   ],
   "source": [
    "# use seaborn\n",
    "fig, ax = plt.subplots(figsize=(13, 8))\n",
    "sns.boxplot(data=df, ax=ax, palette='Set3')\n",
    "ax.set_ylim(0, 50)\n",
    "ax.set_title('Title', size=14)\n",
    "ax.set_xlabel('sample name', size=14)\n",
    "ax.set_ylabel('Time (s)', size=14)\n",
    "ax.grid(axis='y')\n",
    "plt.show();"
   ]
  },
  {
   "cell_type": "code",
   "execution_count": 9,
   "metadata": {},
   "outputs": [
    {
     "data": {
      "image/png": "[encoded data removed]",
      "text/plain": [
       "<Figure size 936x576 with 1 Axes>"
      ]
     },
     "metadata": {
      "needs_background": "light"
     },
     "output_type": "display_data"
    }
   ],
   "source": [
    "# use seaborn and add table\n",
    "fig, ax = plt.subplots(figsize=(13, 8))\n",
    "plt.subplots_adjust(bottom=0.3)\n",
    "df.plot(table=tbl, ax=ax, alpha=0)\n",
    "sns.boxplot(data=df, ax=ax, palette='Set3')\n",
    "ax.set_xticks([])\n",
    "ax.set_ylim(0, 50)\n",
    "ax.set_title('Title', size=14)\n",
    "ax.set_xlabel('')\n",
    "ax.set_ylabel('Time (s)', size=14)\n",
    "ax.grid(axis='y')\n",
    "ax.get_legend().remove()\n",
    "plt.show()\n",
    "fig.savefig('boxplot_data01-10.pdf', dpi=100);"
   ]
  },
  {
   "cell_type": "code",
   "execution_count": null,
   "metadata": {},
   "outputs": [],
   "source": []
  }
 ],
 "metadata": {
  "kernelspec": {
   "display_name": "Python 3",
   "language": "python",
   "name": "python3"
  },
  "language_info": {
   "codemirror_mode": {
    "name": "ipython",
    "version": 3
   },
   "file_extension": ".py",
   "mimetype": "text/x-python",
   "name": "python",
   "nbconvert_exporter": "python",
   "pygments_lexer": "ipython3",
   "version": "3.8.5"
  }
 },
 "nbformat": 4,
 "nbformat_minor": 4
}
