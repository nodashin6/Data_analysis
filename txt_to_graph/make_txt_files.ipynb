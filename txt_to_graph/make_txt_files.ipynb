{
 "cells": [
  {
   "cell_type": "code",
   "execution_count": 1,
   "metadata": {},
   "outputs": [],
   "source": [
    "import numpy as np\n",
    "import os\n",
    "import pandas as pd\n",
    "import matplotlib.pyplot as plt"
   ]
  },
  {
   "cell_type": "code",
   "execution_count": 2,
   "metadata": {},
   "outputs": [
    {
     "data": {
      "text/plain": [
       "(['data_01.txt',\n",
       "  'data_02.txt',\n",
       "  'data_03.txt',\n",
       "  'data_04.txt',\n",
       "  'data_05.txt',\n",
       "  'data_06.txt',\n",
       "  'data_07.txt',\n",
       "  'data_08.txt',\n",
       "  'data_09.txt',\n",
       "  'data_10.txt'],\n",
       " ['ABC-50',\n",
       "  'ABC-51',\n",
       "  'ABC-52',\n",
       "  'ABC-53',\n",
       "  'ABC-54',\n",
       "  'ABC-55',\n",
       "  'ABC-56',\n",
       "  'ABC-57',\n",
       "  'ABC-58',\n",
       "  'ABC-59'])"
      ]
     },
     "execution_count": 2,
     "metadata": {},
     "output_type": "execute_result"
    }
   ],
   "source": [
    "N = 10\n",
    "path = './txt_files/'\n",
    "Files = ['data_{:0>2}.txt'.format(i+1) for i in range(N)]\n",
    "Sample = ['ABC-{}'.format(50+i) for i in range(N)]\n",
    "Files, Sample"
   ]
  },
  {
   "cell_type": "code",
   "execution_count": 3,
   "metadata": {},
   "outputs": [
    {
     "data": {
      "text/plain": [
       "['1.0,41.1,27.0,5.201\\n2.0,43.7,26.9,5.151\\n3.0,50.4,27.6,5.677\\n4.0,24.8,27.0,4.907\\n5.0,31.3,25.9,5.142\\n',\n",
       " '1.0,40.3,22.9,2.931\\n2.0,46.8,24.2,5.146\\n3.0,24.4,29.0,5.446\\n4.0,34.3,29.2,4.012\\n5.0,37.6,25.9,2.709\\n6.0,55.1,24.5,6.329\\n',\n",
       " '1.0,41.1,34.5,3.887\\n2.0,36.2,38.2,4.344\\n3.0,41.1,22.3,3.859\\n4.0,43.5,32.2,4.131\\n5.0,22.7,18.3,3.991\\n',\n",
       " '1.0,36.4,31.5,3.554\\n2.0,33.3,27.1,2.974\\n3.0,36.4,30.2,3.157\\n4.0,31.9,32.3,4.133\\n5.0,22.7,30.4,3.316\\n6.0,41.8,33.6,3.748\\n7.0,36.0,26.1,5.19\\n8.0,23.7,31.3,4.407\\n',\n",
       " '1.0,36.0,42.1,5.196\\n2.0,48.6,22.1,8.377\\n3.0,37.7,37.2,5.334\\n4.0,48.1,44.6,9.76\\n5.0,42.9,38.5,6.413\\n6.0,34.6,19.0,5.939\\n7.0,59.1,32.5,9.731\\n8.0,35.2,43.4,9.102\\n',\n",
       " '1.0,53.0,34.9,4.99\\n2.0,49.2,34.4,5.036\\n3.0,38.4,35.8,4.757\\n4.0,30.4,32.7,4.957\\n5.0,20.1,33.3,5.303\\n6.0,40.9,27.0,4.692\\n7.0,41.1,34.9,4.944\\n8.0,34.1,35.3,4.133\\n',\n",
       " '1.0,35.9,28.8,4.494\\n2.0,50.6,26.9,4.065\\n3.0,39.0,28.0,4.664\\n4.0,41.4,29.5,4.69\\n5.0,45.8,26.1,4.102\\n6.0,53.5,28.7,4.969\\n',\n",
       " '1.0,33.1,32.1,3.221\\n2.0,48.0,31.8,5.282\\n3.0,62.1,31.8,2.885\\n4.0,44.4,32.0,5.057\\n5.0,46.4,32.0,4.22\\n6.0,60.2,32.0,4.531\\n7.0,37.6,32.1,2.144\\n8.0,55.3,32.0,5.741\\n',\n",
       " '1.0,40.2,33.4,4.348\\n2.0,36.5,28.4,5.752\\n3.0,26.3,29.5,4.42\\n4.0,33.6,32.1,5.352\\n5.0,17.8,30.3,6.086\\n',\n",
       " '1.0,49.8,25.7,5.633\\n2.0,28.2,33.0,5.257\\n3.0,40.9,35.1,5.678\\n4.0,32.9,30.5,5.987\\n5.0,40.5,38.3,6.298\\n6.0,26.6,30.7,7.777\\n7.0,53.8,38.4,5.967\\n8.0,43.9,30.5,5.248\\n']"
      ]
     },
     "metadata": {},
     "output_type": "display_data"
    },
    {
     "data": {
      "text/plain": [
       "<AxesSubplot:>"
      ]
     },
     "metadata": {},
     "output_type": "display_data"
    },
    {
     "name": "stdout",
     "output_type": "stream",
     "text": [
      "\n"
     ]
    },
    {
     "data": {
      "image/png": "[encoded data removed]",
      "text/plain": [
       "<Figure size 432x288 with 1 Axes>"
      ]
     },
     "metadata": {
      "needs_background": "light"
     },
     "output_type": "display_data"
    }
   ],
   "source": [
    "fig, ax = plt.subplots()\n",
    "np.random.seed(0)\n",
    "Data = []\n",
    "B = []\n",
    "for i in range(N):\n",
    "    n = np.random.randint(5, 9)\n",
    "    mean = np.random.randint(22, 29)+i\n",
    "    std = abs(np.random.randn())*(mean//6)\n",
    "    n_list = list(range(1,n+1))\n",
    "    a = list((np.random.randn(n)*10 + 40).round(1))\n",
    "    b = list((np.random.normal(mean, std, n)).round(1))\n",
    "    c = list((np.random.normal(np.random.randint(4, 8), abs(np.random.randn(1)), n)).round(3))\n",
    "    A = np.array([n_list, a, b, c]).T\n",
    "    B.append(b)\n",
    "\n",
    "    data = ''\n",
    "    for a in A:\n",
    "        a = list(a)\n",
    "        data += ','.join(map(str, a))\n",
    "        data += '\\n'\n",
    "    Data.append(data)\n",
    "display(Data)\n",
    "\n",
    "df = pd.DataFrame(B).T\n",
    "display(df.boxplot(ax = ax))\n",
    "print()"
   ]
  },
  {
   "cell_type": "code",
   "execution_count": 4,
   "metadata": {},
   "outputs": [],
   "source": [
    "for i in range(N):\n",
    "    file = Files[i]\n",
    "    sample = Sample[i]\n",
    "    with open(path+file, 'w') as f:\n",
    "        f.write('''\\\n",
    "FILE NAME,{file_name}\n",
    "DATE,YYYYMMDD\n",
    "SAMPLE NAME,{sample_name}\n",
    "TEST_DATA\n",
    "N,Length(cm),Time(s),Weight(g)\n",
    "{data}\n",
    "'''.format(file_name=file, sample_name=sample, data=Data[i])\n",
    "        )"
   ]
  },
  {
   "cell_type": "code",
   "execution_count": null,
   "metadata": {},
   "outputs": [],
   "source": []
  },
  {
   "cell_type": "code",
   "execution_count": null,
   "metadata": {},
   "outputs": [],
   "source": []
  }
 ],
 "metadata": {
  "kernelspec": {
   "display_name": "Python 3",
   "language": "python",
   "name": "python3"
  },
  "language_info": {
   "codemirror_mode": {
    "name": "ipython",
    "version": 3
   },
   "file_extension": ".py",
   "mimetype": "text/x-python",
   "name": "python",
   "nbconvert_exporter": "python",
   "pygments_lexer": "ipython3",
   "version": "3.8.5"
  }
 },
 "nbformat": 4,
 "nbformat_minor": 4
}
